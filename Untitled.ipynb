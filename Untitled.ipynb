{
 "cells": [
  {
   "cell_type": "code",
   "execution_count": 8,
   "metadata": {},
   "outputs": [],
   "source": [
    "\n",
    "\n",
    "import numpy as np \n",
    "import pandas as pd \n",
    "\n",
    "import seaborn as sns\n",
    "import matplotlib.pyplot as plt\n",
    "from datetime import datetime\n",
    "import csv\n",
    "import math\n"
   ]
  },
  {
   "cell_type": "code",
   "execution_count": 9,
   "metadata": {},
   "outputs": [
    {
     "data": {
      "text/html": [
       "<div>\n",
       "<style scoped>\n",
       "    .dataframe tbody tr th:only-of-type {\n",
       "        vertical-align: middle;\n",
       "    }\n",
       "\n",
       "    .dataframe tbody tr th {\n",
       "        vertical-align: top;\n",
       "    }\n",
       "\n",
       "    .dataframe thead th {\n",
       "        text-align: right;\n",
       "    }\n",
       "</style>\n",
       "<table border=\"1\" class=\"dataframe\">\n",
       "  <thead>\n",
       "    <tr style=\"text-align: right;\">\n",
       "      <th></th>\n",
       "      <th>check_in_date</th>\n",
       "      <th>check_out_date</th>\n",
       "      <th>booking_date</th>\n",
       "      <th>Country</th>\n",
       "      <th>room_type_code</th>\n",
       "      <th>Status</th>\n",
       "      <th>stay_duration</th>\n",
       "      <th>price_pernight</th>\n",
       "    </tr>\n",
       "    <tr>\n",
       "      <th>index</th>\n",
       "      <th></th>\n",
       "      <th></th>\n",
       "      <th></th>\n",
       "      <th></th>\n",
       "      <th></th>\n",
       "      <th></th>\n",
       "      <th></th>\n",
       "      <th></th>\n",
       "    </tr>\n",
       "  </thead>\n",
       "  <tbody>\n",
       "    <tr>\n",
       "      <th>1</th>\n",
       "      <td>2013-07-24</td>\n",
       "      <td>2013-07-25</td>\n",
       "      <td>2013-06-06T14:24:10Z</td>\n",
       "      <td>Netherlands</td>\n",
       "      <td>D1</td>\n",
       "      <td>Checked Out</td>\n",
       "      <td>1</td>\n",
       "      <td>30.00</td>\n",
       "    </tr>\n",
       "    <tr>\n",
       "      <th>2</th>\n",
       "      <td>NaN</td>\n",
       "      <td>NaN</td>\n",
       "      <td>2013-06-07T00:09:08Z</td>\n",
       "      <td>Denmark</td>\n",
       "      <td>D1</td>\n",
       "      <td>Cancelled</td>\n",
       "      <td>0</td>\n",
       "      <td>28.99</td>\n",
       "    </tr>\n",
       "    <tr>\n",
       "      <th>3</th>\n",
       "      <td>2013-08-01</td>\n",
       "      <td>2013-08-03</td>\n",
       "      <td>2013-06-07T00:09:20Z</td>\n",
       "      <td>Switzerland</td>\n",
       "      <td>D2</td>\n",
       "      <td>Checked Out</td>\n",
       "      <td>2</td>\n",
       "      <td>25.38</td>\n",
       "    </tr>\n",
       "    <tr>\n",
       "      <th>4</th>\n",
       "      <td>2013-08-01</td>\n",
       "      <td>2013-08-03</td>\n",
       "      <td>2013-06-07T00:09:20Z</td>\n",
       "      <td>Switzerland</td>\n",
       "      <td>D2</td>\n",
       "      <td>Checked Out</td>\n",
       "      <td>2</td>\n",
       "      <td>29.60</td>\n",
       "    </tr>\n",
       "    <tr>\n",
       "      <th>5</th>\n",
       "      <td>2013-07-26</td>\n",
       "      <td>2013-07-27</td>\n",
       "      <td>2013-06-07T00:09:42Z</td>\n",
       "      <td>NaN</td>\n",
       "      <td>D3</td>\n",
       "      <td>Checked Out</td>\n",
       "      <td>1</td>\n",
       "      <td>29.90</td>\n",
       "    </tr>\n",
       "  </tbody>\n",
       "</table>\n",
       "</div>"
      ],
      "text/plain": [
       "      check_in_date check_out_date          booking_date      Country  \\\n",
       "index                                                                   \n",
       "1        2013-07-24     2013-07-25  2013-06-06T14:24:10Z  Netherlands   \n",
       "2               NaN            NaN  2013-06-07T00:09:08Z      Denmark   \n",
       "3        2013-08-01     2013-08-03  2013-06-07T00:09:20Z  Switzerland   \n",
       "4        2013-08-01     2013-08-03  2013-06-07T00:09:20Z  Switzerland   \n",
       "5        2013-07-26     2013-07-27  2013-06-07T00:09:42Z          NaN   \n",
       "\n",
       "      room_type_code       Status  stay_duration  price_pernight  \n",
       "index                                                             \n",
       "1                 D1  Checked Out              1           30.00  \n",
       "2                 D1    Cancelled              0           28.99  \n",
       "3                 D2  Checked Out              2           25.38  \n",
       "4                 D2  Checked Out              2           29.60  \n",
       "5                 D3  Checked Out              1           29.90  "
      ]
     },
     "execution_count": 9,
     "metadata": {},
     "output_type": "execute_result"
    }
   ],
   "source": [
    "data = pd.read_csv('./data.csv',index_col = 0)\n",
    "data.head()"
   ]
  },
  {
   "cell_type": "code",
   "execution_count": 10,
   "metadata": {},
   "outputs": [
    {
     "name": "stdout",
     "output_type": "stream",
     "text": [
      "favorite country:\n",
      "[('China', 1889), ('France', 1661), ('Germany', 1641), ('nan', 1636), ('Spain', 926), ('Netherlands', 803), ('Italy', 648), ('Australia', 491), ('Poland', 464), ('Switzerland', 454)]\n",
      "unreliable country:\n",
      "[('RUSSIA', 0.8484848484848485), ('India', 0.8441558441558441), ('MACAU CHINA', 0.8), ('United Arab Emirates', 0.75), ('VENEZUELA', 0.75), ('SYRIA', 0.6666666666666666), ('Dominican Republic', 0.5), ('Panama', 0.5), ('IRAN', 0.5), ('Turkmenistan', 0.0)]\n"
     ]
    },
    {
     "data": {
      "text/html": [
       "<div>\n",
       "<style scoped>\n",
       "    .dataframe tbody tr th:only-of-type {\n",
       "        vertical-align: middle;\n",
       "    }\n",
       "\n",
       "    .dataframe tbody tr th {\n",
       "        vertical-align: top;\n",
       "    }\n",
       "\n",
       "    .dataframe thead th {\n",
       "        text-align: right;\n",
       "    }\n",
       "</style>\n",
       "<table border=\"1\" class=\"dataframe\">\n",
       "  <thead>\n",
       "    <tr style=\"text-align: right;\">\n",
       "      <th></th>\n",
       "      <th>Season</th>\n",
       "      <th>book&amp;chech_in diff</th>\n",
       "      <th>dayOrNight</th>\n",
       "      <th>room_type_code</th>\n",
       "      <th>Status</th>\n",
       "      <th>stay_duration</th>\n",
       "      <th>price_pernight</th>\n",
       "    </tr>\n",
       "    <tr>\n",
       "      <th>index</th>\n",
       "      <th></th>\n",
       "      <th></th>\n",
       "      <th></th>\n",
       "      <th></th>\n",
       "      <th></th>\n",
       "      <th></th>\n",
       "      <th></th>\n",
       "    </tr>\n",
       "  </thead>\n",
       "  <tbody>\n",
       "    <tr>\n",
       "      <th>1</th>\n",
       "      <td>6</td>\n",
       "      <td>48</td>\n",
       "      <td>1</td>\n",
       "      <td>31</td>\n",
       "      <td>1</td>\n",
       "      <td>1</td>\n",
       "      <td>30.00</td>\n",
       "    </tr>\n",
       "    <tr>\n",
       "      <th>2</th>\n",
       "      <td>6</td>\n",
       "      <td>0</td>\n",
       "      <td>0</td>\n",
       "      <td>31</td>\n",
       "      <td>0</td>\n",
       "      <td>0</td>\n",
       "      <td>28.99</td>\n",
       "    </tr>\n",
       "    <tr>\n",
       "      <th>3</th>\n",
       "      <td>6</td>\n",
       "      <td>55</td>\n",
       "      <td>0</td>\n",
       "      <td>32</td>\n",
       "      <td>1</td>\n",
       "      <td>2</td>\n",
       "      <td>25.38</td>\n",
       "    </tr>\n",
       "    <tr>\n",
       "      <th>4</th>\n",
       "      <td>6</td>\n",
       "      <td>55</td>\n",
       "      <td>0</td>\n",
       "      <td>32</td>\n",
       "      <td>1</td>\n",
       "      <td>2</td>\n",
       "      <td>29.60</td>\n",
       "    </tr>\n",
       "    <tr>\n",
       "      <th>5</th>\n",
       "      <td>6</td>\n",
       "      <td>49</td>\n",
       "      <td>0</td>\n",
       "      <td>33</td>\n",
       "      <td>1</td>\n",
       "      <td>1</td>\n",
       "      <td>29.90</td>\n",
       "    </tr>\n",
       "  </tbody>\n",
       "</table>\n",
       "</div>"
      ],
      "text/plain": [
       "       Season  book&chech_in diff  dayOrNight  room_type_code  Status  \\\n",
       "index                                                                   \n",
       "1           6                  48           1              31       1   \n",
       "2           6                   0           0              31       0   \n",
       "3           6                  55           0              32       1   \n",
       "4           6                  55           0              32       1   \n",
       "5           6                  49           0              33       1   \n",
       "\n",
       "       stay_duration  price_pernight  \n",
       "index                                 \n",
       "1                  1           30.00  \n",
       "2                  0           28.99  \n",
       "3                  2           25.38  \n",
       "4                  2           29.60  \n",
       "5                  1           29.90  "
      ]
     },
     "execution_count": 10,
     "metadata": {},
     "output_type": "execute_result"
    }
   ],
   "source": [
    "diff=[]\n",
    "season=[]\n",
    "dayOrNight=[]\n",
    "C=[]\n",
    "a={}\n",
    "data['Status'] = data['Status'].replace(['Checked Out','Cancelled'],[1,0])\n",
    "\n",
    "Country_list=data['Country'].values.tolist()\n",
    "for i,x in enumerate(Country_list):\n",
    "    if type(x) != str:\n",
    "        Country_list[i]='nan'\n",
    "        \n",
    "for index, row in data.iterrows():\n",
    "    ##change room to numeric\n",
    "    data.at[index,'room_type_code']=int(row['room_type_code'][1])+10*(ord(row['room_type_code'][0])-ord('A'))\n",
    "   \n",
    "    ##adding coloumn season\n",
    "    season.append((int(row['booking_date'].split('T')[0].split('-')[1])-1)+1)\n",
    "    \n",
    "    ##adding booking time\n",
    "    temp=int(row['booking_date'].split('T')[1].split(':')[0])\n",
    "    if temp >= 18 or  temp < 6:\n",
    "        dayOrNight.append(0)\n",
    "    else:\n",
    "        dayOrNight.append(1)\n",
    "    \n",
    "    \n",
    "    ##adding coloumn by diffrent between book and check in date\n",
    "    if row['Status']==1:\n",
    "        d1 = datetime.strptime(row['booking_date'].split('T')[0], \"%Y-%m-%d\")\n",
    "        d2 = datetime.strptime(row['check_in_date'], \"%Y-%m-%d\")\n",
    "        diff.append((d2-d1).days)\n",
    "    else: diff.append(0)\n",
    "    \n",
    "    \n",
    "    if C.count(Country_list[index-1]) ==0:\n",
    "        C.append(Country_list[index-1])\n",
    "        a[Country_list[index-1]]=int(row['Status']==1)\n",
    "    else:\n",
    "        a[Country_list[index-1]]+=int(row['Status']==1)\n",
    "\n",
    "data.insert(1,\"book&chech_in diff\",diff,True)\n",
    "data.insert(1,\"Season\",season,True)       \n",
    "data.insert(1,\"dayOrNight\",dayOrNight,True) \n",
    "        \n",
    "##favorite country\n",
    "fav={}\n",
    "for i in C:\n",
    "    fav[i] = Country_list.count(i)\n",
    "fav=sorted(fav.items(), key=lambda x: x[1], reverse=True)\n",
    "print('favorite country:',fav[0:10],sep='\\n')\n",
    "        \n",
    "## sort country descending by reliableity         \n",
    "l={}\n",
    "for i in C:\n",
    "    l[i]=(a[i]/Country_list.count(i))\n",
    "l = sorted(l.items(), key=lambda x: x[1], reverse=True)\n",
    "print('unreliable country:',l[-10:],sep='\\n')\n",
    "\n",
    "\n",
    "##convert to numeric \n",
    "data['room_type_code']=pd.to_numeric(data['room_type_code'])\n",
    "\n",
    "##selected part\n",
    "df = pd.DataFrame(data,columns=['Season','book&chech_in diff','dayOrNight','room_type_code','Status','stay_duration','price_pernight'])\n",
    "df.head()"
   ]
  },
  {
   "cell_type": "code",
   "execution_count": 12,
   "metadata": {
    "scrolled": false
   },
   "outputs": [
    {
     "data": {
      "image/png": "[encoded data removed]",
      "text/plain": [
       "<Figure size 864x648 with 2 Axes>"
      ]
     },
     "metadata": {
      "needs_background": "light"
     },
     "output_type": "display_data"
    }
   ],
   "source": [
    "\n",
    "corrmat = df.corr().abs()\n",
    "f, ax = plt.subplots(figsize=(12, 9))\n",
    "sns.heatmap(corrmat, vmax=.8, square=True);\n",
    "\n",
    "# print(corrmat)"
   ]
  },
  {
   "cell_type": "code",
   "execution_count": 13,
   "metadata": {},
   "outputs": [
    {
     "data": {
      "text/plain": [
       "<matplotlib.collections.PathCollection at 0x7f1b693719b0>"
      ]
     },
     "execution_count": 13,
     "metadata": {},
     "output_type": "execute_result"
    },
    {
     "data": {
      "image/png": "[encoded data removed]",
      "text/plain": [
       "<Figure size 432x288 with 1 Axes>"
      ]
     },
     "metadata": {
      "needs_background": "light"
     },
     "output_type": "display_data"
    }
   ],
   "source": [
    "##Price vs room Type\n",
    "y=df['room_type_code']\n",
    "x=df['price_pernight']\n",
    "plt.scatter(x,y)"
   ]
  },
  {
   "cell_type": "code",
   "execution_count": 14,
   "metadata": {},
   "outputs": [
    {
     "data": {
      "text/plain": [
       "<BarContainer object of 12 artists>"
      ]
     },
     "execution_count": 14,
     "metadata": {},
     "output_type": "execute_result"
    },
    {
     "data": {
      "image/png": "[encoded data removed]",
      "text/plain": [
       "<Figure size 432x288 with 1 Axes>"
      ]
     },
     "metadata": {
      "needs_background": "light"
     },
     "output_type": "display_data"
    }
   ],
   "source": [
    "##average stay duration vs month\n",
    "y=[0]*12\n",
    "cnt=[0]*12\n",
    "for index, row in data.iterrows():\n",
    "    if row['Status']==1:cnt[row['Season']-1]+=1\n",
    "\n",
    "for index, row in data.iterrows():\n",
    "    y[row['Season']-1] += row['stay_duration']/cnt[row['Season']-1]\n",
    "\n",
    "x=[i for i in range(1,13)] \n",
    "plt.bar(x,y)"
   ]
  },
  {
   "cell_type": "code",
   "execution_count": 15,
   "metadata": {},
   "outputs": [
    {
     "data": {
      "text/plain": [
       "<matplotlib.collections.PathCollection at 0x7f1b6c0af5f8>"
      ]
     },
     "execution_count": 15,
     "metadata": {},
     "output_type": "execute_result"
    },
    {
     "data": {
      "image/png": "[encoded data removed]",
      "text/plain": [
       "<Figure size 432x288 with 1 Axes>"
      ]
     },
     "metadata": {
      "needs_background": "light"
     },
     "output_type": "display_data"
    }
   ],
   "source": [
    "##book and check in diff vs room Type\n",
    "y=df['room_type_code']\n",
    "x=df['book&chech_in diff']\n",
    "plt.scatter(x,y)"
   ]
  }
 ],
 "metadata": {
  "kernelspec": {
   "display_name": "Python 3",
   "language": "python",
   "name": "python3"
  },
  "language_info": {
   "codemirror_mode": {
    "name": "ipython",
    "version": 3
   },
   "file_extension": ".py",
   "mimetype": "text/x-python",
   "name": "python",
   "nbconvert_exporter": "python",
   "pygments_lexer": "ipython3",
   "version": "3.6.9"
  }
 },
 "nbformat": 4,
 "nbformat_minor": 2
}
