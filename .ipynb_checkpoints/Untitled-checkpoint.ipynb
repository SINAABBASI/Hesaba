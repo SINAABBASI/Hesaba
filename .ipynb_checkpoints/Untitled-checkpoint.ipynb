{
 "cells": [
  {
   "cell_type": "code",
   "execution_count": 45,
   "metadata": {},
   "outputs": [],
   "source": [
    "\n",
    "\n",
    "import numpy as np # linear algebra\n",
    "import pandas as pd # data processing, CSV file I/O (e.g. pd.read_csv)\n",
    "# from sklearn.preprocessing import StandardScaler # Used for scaling of data\n",
    "# from sklearn.model_selection import train_test_split\n",
    "# from keras.models import Sequential\n",
    "# from keras.layers import Dense, Dropout\n",
    "# from keras.callbacks import EarlyStopping\n",
    "# from keras import metrics\n",
    "import seaborn as sns\n",
    "import matplotlib.pyplot as plt\n",
    "from datetime import datetime\n",
    "# from keras import backend as K\n",
    "# from keras.wrappers.scikit_learn import KerasRegressor\n",
    "import csv\n",
    "\n"
   ]
  },
  {
   "cell_type": "code",
   "execution_count": 88,
   "metadata": {},
   "outputs": [
    {
     "data": {
      "text/html": [
       "<div>\n",
       "<style scoped>\n",
       "    .dataframe tbody tr th:only-of-type {\n",
       "        vertical-align: middle;\n",
       "    }\n",
       "\n",
       "    .dataframe tbody tr th {\n",
       "        vertical-align: top;\n",
       "    }\n",
       "\n",
       "    .dataframe thead th {\n",
       "        text-align: right;\n",
       "    }\n",
       "</style>\n",
       "<table border=\"1\" class=\"dataframe\">\n",
       "  <thead>\n",
       "    <tr style=\"text-align: right;\">\n",
       "      <th></th>\n",
       "      <th>check_in_date</th>\n",
       "      <th>Differences</th>\n",
       "      <th>check_out_date</th>\n",
       "      <th>booking_date</th>\n",
       "      <th>Country</th>\n",
       "      <th>room_type_code</th>\n",
       "      <th>Status</th>\n",
       "      <th>stay_duration</th>\n",
       "      <th>price_pernight</th>\n",
       "    </tr>\n",
       "    <tr>\n",
       "      <th>index</th>\n",
       "      <th></th>\n",
       "      <th></th>\n",
       "      <th></th>\n",
       "      <th></th>\n",
       "      <th></th>\n",
       "      <th></th>\n",
       "      <th></th>\n",
       "      <th></th>\n",
       "      <th></th>\n",
       "    </tr>\n",
       "  </thead>\n",
       "  <tbody>\n",
       "    <tr>\n",
       "      <th>1</th>\n",
       "      <td>2013-07-24</td>\n",
       "      <td>48</td>\n",
       "      <td>2013-07-25</td>\n",
       "      <td>2013-06-06T14:24:10Z</td>\n",
       "      <td>Netherlands</td>\n",
       "      <td>4</td>\n",
       "      <td>1</td>\n",
       "      <td>1</td>\n",
       "      <td>30.00</td>\n",
       "    </tr>\n",
       "    <tr>\n",
       "      <th>2</th>\n",
       "      <td>NaN</td>\n",
       "      <td>-1</td>\n",
       "      <td>NaN</td>\n",
       "      <td>2013-06-07T00:09:08Z</td>\n",
       "      <td>Denmark</td>\n",
       "      <td>4</td>\n",
       "      <td>0</td>\n",
       "      <td>0</td>\n",
       "      <td>28.99</td>\n",
       "    </tr>\n",
       "    <tr>\n",
       "      <th>3</th>\n",
       "      <td>2013-08-01</td>\n",
       "      <td>55</td>\n",
       "      <td>2013-08-03</td>\n",
       "      <td>2013-06-07T00:09:20Z</td>\n",
       "      <td>Switzerland</td>\n",
       "      <td>5</td>\n",
       "      <td>1</td>\n",
       "      <td>2</td>\n",
       "      <td>25.38</td>\n",
       "    </tr>\n",
       "    <tr>\n",
       "      <th>4</th>\n",
       "      <td>2013-08-01</td>\n",
       "      <td>55</td>\n",
       "      <td>2013-08-03</td>\n",
       "      <td>2013-06-07T00:09:20Z</td>\n",
       "      <td>Switzerland</td>\n",
       "      <td>5</td>\n",
       "      <td>1</td>\n",
       "      <td>2</td>\n",
       "      <td>29.60</td>\n",
       "    </tr>\n",
       "    <tr>\n",
       "      <th>5</th>\n",
       "      <td>2013-07-26</td>\n",
       "      <td>49</td>\n",
       "      <td>2013-07-27</td>\n",
       "      <td>2013-06-07T00:09:42Z</td>\n",
       "      <td>NaN</td>\n",
       "      <td>6</td>\n",
       "      <td>1</td>\n",
       "      <td>1</td>\n",
       "      <td>29.90</td>\n",
       "    </tr>\n",
       "  </tbody>\n",
       "</table>\n",
       "</div>"
      ],
      "text/plain": [
       "      check_in_date  Differences check_out_date          booking_date  \\\n",
       "index                                                                   \n",
       "1        2013-07-24           48     2013-07-25  2013-06-06T14:24:10Z   \n",
       "2               NaN           -1            NaN  2013-06-07T00:09:08Z   \n",
       "3        2013-08-01           55     2013-08-03  2013-06-07T00:09:20Z   \n",
       "4        2013-08-01           55     2013-08-03  2013-06-07T00:09:20Z   \n",
       "5        2013-07-26           49     2013-07-27  2013-06-07T00:09:42Z   \n",
       "\n",
       "           Country room_type_code  Status  stay_duration  price_pernight  \n",
       "index                                                                     \n",
       "1      Netherlands              4       1              1           30.00  \n",
       "2          Denmark              4       0              0           28.99  \n",
       "3      Switzerland              5       1              2           25.38  \n",
       "4      Switzerland              5       1              2           29.60  \n",
       "5              NaN              6       1              1           29.90  "
      ]
     },
     "execution_count": 88,
     "metadata": {},
     "output_type": "execute_result"
    }
   ],
   "source": [
    "data = pd.read_csv('./data.csv',index_col = 0)\n",
    "\n",
    "diff=[]\n",
    "data['Status'] = data['Status'].replace(['Checked Out','Cancelled'],[1,0])\n",
    "\n",
    "for index, row in data.iterrows():\n",
    "    data.at[index,'room_type_code']=int(row['room_type_code'][1])+ord(row['room_type_code'][0])-ord('A')\n",
    "    if row['Status']==1:\n",
    "        d1 = datetime.strptime(row['booking_date'].split('T')[0], \"%Y-%m-%d\")\n",
    "        d2 = datetime.strptime(row['check_in_date'], \"%Y-%m-%d\")\n",
    "        diff.append((d2-d1).days)\n",
    "    else: diff.append(-1)\n",
    "\n",
    "data.insert(1,\"Differences\",diff,True)\n",
    "        \n",
    "# df = pd.DataFrame(data,columns=['Country','room_type_code','Status','stay_duration','price_pernight'])\n",
    "# df= pd.DataFrame(data,columns=[''])\n",
    "\n",
    "# print(diff)\n",
    "# print(data.iloc[-1])\n",
    "data.head()\n",
    "# df.head()"
   ]
  },
  {
   "cell_type": "code",
   "execution_count": 92,
   "metadata": {},
   "outputs": [
    {
     "name": "stdout",
     "output_type": "stream",
     "text": [
      "                Differences    Status  stay_duration  price_pernight\n",
      "Differences        1.000000  0.115335       0.085907        0.294737\n",
      "Status             0.115335  1.000000       0.262179       -0.003262\n",
      "stay_duration      0.085907  0.262179       1.000000       -0.012987\n",
      "price_pernight     0.294737 -0.003262      -0.012987        1.000000\n"
     ]
    },
    {
     "data": {
      "image/png": "[encoded data removed]",
      "text/plain": [
       "<Figure size 864x648 with 2 Axes>"
      ]
     },
     "metadata": {
      "needs_background": "light"
     },
     "output_type": "display_data"
    }
   ],
   "source": [
    "\n",
    "corrmat = data.corr()\n",
    "print(corrmat)\n",
    "f, ax = plt.subplots(figsize=(12, 9))\n",
    "sns.heatmap(corrmat, vmax=.8, square=True);"
   ]
  }
 ],
 "metadata": {
  "kernelspec": {
   "display_name": "Python 3",
   "language": "python",
   "name": "python3"
  },
  "language_info": {
   "codemirror_mode": {
    "name": "ipython",
    "version": 3
   },
   "file_extension": ".py",
   "mimetype": "text/x-python",
   "name": "python",
   "nbconvert_exporter": "python",
   "pygments_lexer": "ipython3",
   "version": "3.6.9"
  }
 },
 "nbformat": 4,
 "nbformat_minor": 2
}
